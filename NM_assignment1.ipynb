{
 "cells": [
  {
   "cell_type": "markdown",
   "metadata": {},
   "source": [
    "    This is my script for Numerical Method (WID3004) Assignment \n",
    "    Name : Muhammad Afiq Irfan Bin Manor\n",
    "    Matrix Number: 17167014/2 "
   ]
  },
  {
   "cell_type": "markdown",
   "metadata": {},
   "source": [
    "# Bisection method\n",
    "question 1 & 2"
   ]
  },
  {
   "cell_type": "code",
   "execution_count": 1,
   "metadata": {},
   "outputs": [],
   "source": [
    "import math\n",
    "import numpy as np"
   ]
  },
  {
   "cell_type": "code",
   "execution_count": 2,
   "metadata": {},
   "outputs": [],
   "source": [
    "def bisection(fx,a,b,iteration,stoppingcondition):\n",
    "\n",
    "    # proceed to this condition when has stopping condition such as interval width \n",
    "    if(stoppingcondition is not None):\n",
    "        while(True):\n",
    "            c = (a+b)/2\n",
    "            fc = fx(c)\n",
    "            fa = fx(a)\n",
    "            fb = fx(b)\n",
    "            print(a, b, fa, fb, c, fc,b-a)\n",
    "\n",
    "            if(abs(b-a)<= stoppingcondition):\n",
    "                break\n",
    "\n",
    "            if(fc == 0):\n",
    "                return c\n",
    "            elif(fc * fa < 0):\n",
    "                b = c\n",
    "            elif(fb * fc < 0):\n",
    "                a = c\n",
    "            \n",
    "        return a if abs(fa) < abs(fb) else b\n",
    "\n",
    "    else: #continue this condition when the process only based on number of iteration\n",
    "\n",
    "        for i in range(iteration):\n",
    "            c = (a+b)/2\n",
    "            fc = fx(c)\n",
    "            fa = fx(a)\n",
    "            fb = fx(b)\n",
    "            print(a, b, fa, fb, c, fc)\n",
    "\n",
    "            if(fc == 0):\n",
    "                return c\n",
    "            elif(fc * fa < 0):\n",
    "                b = c\n",
    "            elif(fb * fc < 0):\n",
    "                a = c\n",
    "\n",
    "        return a if abs(fa) < abs(fb) else b"
   ]
  },
  {
   "cell_type": "code",
   "execution_count": 3,
   "metadata": {},
   "outputs": [],
   "source": [
    "''' These are the functions used '''\n",
    "def fx_example(x):\n",
    "    return x**2 - 3\n",
    "    \n",
    "def fx_q2(x):\n",
    "    return x**6-x-1"
   ]
  },
  {
   "cell_type": "code",
   "execution_count": 4,
   "metadata": {},
   "outputs": [
    {
     "name": "stdout",
     "output_type": "stream",
     "text": [
      "1 2 -2 1 1.5 -0.75\n",
      "1.5 2 -0.75 1 1.75 0.0625\n",
      "1.5 1.75 -0.75 0.0625 1.625 -0.359375\n",
      "1.625 1.75 -0.359375 0.0625 1.6875 -0.15234375\n",
      "1.6875 1.75 -0.15234375 0.0625 1.71875 -0.0458984375\n",
      "1.71875 1.75 -0.0458984375 0.0625 1.734375 0.008056640625\n",
      "1.71875 1.734375 -0.0458984375 0.008056640625 1.7265625 -0.01898193359375\n",
      "The root is = 1.734375\n"
     ]
    }
   ],
   "source": [
    "# test for question 1\n",
    "print(f\"The root is = {bisection(fx_example,1,2,7,None)}\")"
   ]
  },
  {
   "cell_type": "code",
   "execution_count": 5,
   "metadata": {},
   "outputs": [
    {
     "name": "stdout",
     "output_type": "stream",
     "text": [
      "1 2 -1 61 1.5 8.890625 1\n",
      "1 1.5 -1 8.890625 1.25 1.564697265625 0.5\n",
      "1 1.25 -1 1.564697265625 1.125 -0.09771347045898438 0.25\n",
      "1.125 1.25 -0.09771347045898438 1.564697265625 1.1875 0.6166530251502991 0.125\n",
      "1.125 1.1875 -0.09771347045898438 0.6166530251502991 1.15625 0.23326892498880625 0.0625\n",
      "1.125 1.15625 -0.09771347045898438 0.23326892498880625 1.140625 0.06157783210801426 0.03125\n",
      "1.125 1.140625 -0.09771347045898438 0.06157783210801426 1.1328125 -0.01957555101375874 0.015625\n",
      "1.1328125 1.140625 -0.01957555101375874 0.06157783210801426 1.13671875 0.02061899522150057 0.0078125\n",
      "The root is = 1.1328125\n"
     ]
    }
   ],
   "source": [
    "# question 2\n",
    "print(f\"The root is = {bisection(fx_q2,1,2,None,stoppingcondition=0.01)}\")"
   ]
  },
  {
   "cell_type": "markdown",
   "metadata": {},
   "source": [
    "# Secant method\n",
    "question 3, 4 & 5"
   ]
  },
  {
   "cell_type": "code",
   "execution_count": 6,
   "metadata": {},
   "outputs": [],
   "source": [
    "def secant(fx,a,b,iteration):\n",
    "    x_curr = b\n",
    "    x_prev = a\n",
    "    for i in range(1,iteration):\n",
    "        x_new = x_curr - (((x_curr - x_prev)/(fx(x_curr)-fx(x_prev)))*fx(x_curr))\n",
    "        print(i,x_prev,x_curr,fx(x_prev),fx(x_curr))\n",
    "\n",
    "        x_prev = x_curr\n",
    "        x_curr = x_new\n",
    "\n",
    "    return x_curr"
   ]
  },
  {
   "cell_type": "code",
   "execution_count": 7,
   "metadata": {},
   "outputs": [],
   "source": [
    "''' These are the functions used '''\n",
    "\n",
    "def fx_example(x):\n",
    "    return x**2-2\n",
    "\n",
    "def fx_q4(x):\n",
    "    return x**4-5\n",
    "\n",
    "def fx_q5(x):\n",
    "    return math.exp(x)-(2-x)**3"
   ]
  },
  {
   "cell_type": "code",
   "execution_count": 8,
   "metadata": {},
   "outputs": [
    {
     "name": "stdout",
     "output_type": "stream",
     "text": [
      "1 1 1.5 -1 0.25\n",
      "2 1.5 1.4 0.25 -0.04000000000000026\n",
      "3 1.4 1.4137931034482758 -0.04000000000000026 -0.0011890606420930094\n",
      "The root is = 1.4142156862745099\n"
     ]
    }
   ],
   "source": [
    "# test for question 3\n",
    "print(f\"The root is = {secant(fx_example,1,1.5,4)}\")"
   ]
  },
  {
   "cell_type": "code",
   "execution_count": 9,
   "metadata": {},
   "outputs": [
    {
     "name": "stdout",
     "output_type": "stream",
     "text": [
      "1 1 2 -4 11\n",
      "2 2 1.2666666666666666 11 -2.4257580246913584\n",
      "3 1.2666666666666666 1.399164899901277 -2.4257580246913584 -1.1675578606125185\n",
      "4 1.399164899901277 1.522117795749609 -1.1675578606125185 0.3677595596736172\n",
      "5 1.522117795749609 1.4926664899542565 0.3677595596736172 -0.035778714129013345\n",
      "6 1.4926664899542565 1.4952777164950466 -0.035778714129013345 -0.0009504091797589709\n",
      "7 1.4952777164950466 1.495348972724094 -0.0009504091797589709 2.561314293103578e-06\n",
      "8 1.495348972724094 1.4953487812075685 2.561314293103578e-06 -1.8259260770037145e-10\n",
      "9 1.4953487812075685 1.4953487812212205 -1.8259260770037145e-10 -8.881784197001252e-16\n",
      "The root is = 1.4953487812212205\n"
     ]
    }
   ],
   "source": [
    "# question 4\n",
    "print(f\"The root is = {secant(fx_q4,1,2,10)}\")"
   ]
  },
  {
   "cell_type": "code",
   "execution_count": 10,
   "metadata": {},
   "outputs": [
    {
     "name": "stdout",
     "output_type": "stream",
     "text": [
      "1 0 5 -7.0 175.4131591025766\n",
      "2 5 0.19187212245098184 175.4131591025766 -4.699844662232567\n",
      "3 0.19187212245098184 0.3173347690577644 -4.699844662232567 -3.390772576136788\n",
      "4 0.3173347690577644 0.6423094637001294 -3.390772576136788 -0.6017972021770679\n",
      "5 0.6423094637001294 0.7124315823248121 -0.6017972021770679 -0.09562958511859243\n",
      "6 0.7124315823248121 0.7256796623791717 -0.09562958511859243 -0.003224116126523402\n",
      "7 0.7256796623791717 0.7261419006970401 -0.003224116126523402 -1.7789607834828303e-05\n",
      "8 0.7261419006970401 0.7261444653261735 -1.7789607834828303e-05 -3.3242000263555838e-09\n",
      "9 0.7261444653261735 0.7261444658054945 -3.3242000263555838e-09 -3.552713678800501e-15\n",
      "The root is = 0.7261444658054951\n"
     ]
    }
   ],
   "source": [
    "# question 5\n",
    "print(f\"The root is = {secant(fx_q5,0,5,10)}\")"
   ]
  },
  {
   "cell_type": "markdown",
   "metadata": {},
   "source": [
    "# Lagrange method\n",
    "question 6"
   ]
  },
  {
   "cell_type": "code",
   "execution_count": 11,
   "metadata": {},
   "outputs": [],
   "source": [
    "def x_value(n,i):\n",
    "    return (10*i)/n - 5\n",
    "\n",
    "def y_value(i): # the value return will be use as input for f(x)\n",
    "    return (i/10) - 5\n",
    "\n",
    "def y_function_a(x):\n",
    "    return 1/(1+x**2)\n",
    "\n",
    "def y_function_b(x):\n",
    "    return math.sin(x)\n",
    "\n",
    "def y_function_c(x):\n",
    "    return (math.tan(x)+1)/(math.sin(x**2) + 2)"
   ]
  },
  {
   "cell_type": "code",
   "execution_count": 12,
   "metadata": {},
   "outputs": [],
   "source": [
    "def lagrange(n,x,func):\n",
    "    # print(f'Calculating for p{n}...')\n",
    "    pn = 0\n",
    "    for i in range(n+1):\n",
    "        xi = x_value(n,i) #this is for multiplication the y[i] value after got L[i] polynomial, using f(x) function\n",
    "        temp = 1\n",
    "\n",
    "        for j in range(n+1): # lagrange iteration multiplication\n",
    "            if(j != i ): \n",
    "                temp = temp * ( (x - x_value(n,j)) / (x_value(n,i) - (x_value(n,j))) ) \n",
    "\n",
    "        # print(f'this is function(x{i}) : {func(xi)}')\n",
    "        pn = pn + (temp * func(xi))\n",
    "        # print(f'this is pn : {pn}')\n",
    "    return pn"
   ]
  },
  {
   "cell_type": "code",
   "execution_count": 13,
   "metadata": {},
   "outputs": [],
   "source": [
    "n = [2,4,6,8,10,12,14,16] # n values\n",
    "max_err = 0\n",
    "list_err = []"
   ]
  },
  {
   "cell_type": "code",
   "execution_count": 14,
   "metadata": {},
   "outputs": [
    {
     "name": "stdout",
     "output_type": "stream",
     "text": [
      "calculating p2...\n",
      "The max error for p2 is : 0.6461538461538461\n",
      "calculating p4...\n",
      "The max error for p4 is : 0.43813387423935096\n",
      "calculating p6...\n",
      "The max error for p6 is : 0.6166675899518328\n",
      "calculating p8...\n",
      "The max error for p8 is : 1.045173911783697\n",
      "calculating p10...\n",
      "The max error for p10 is : 1.9156430502192516\n",
      "calculating p12...\n",
      "The max error for p12 is : 3.605274450561201\n",
      "calculating p14...\n",
      "The max error for p14 is : 7.192007955709934\n",
      "calculating p16...\n",
      "The max error for p16 is : 14.051542044319364\n"
     ]
    }
   ],
   "source": [
    "''' Using function (a) '''\n",
    "for i in range(len(n)):\n",
    "    max_err = 0\n",
    "    print(f'calculating p{n[i]}...')\n",
    "\n",
    "    for j in range(101):\n",
    "        # print(f'this is for i = {j}')\n",
    "        x = y_value(j)\n",
    "        ans = lagrange(n[i],x,y_function_a)\n",
    "        error = abs(y_function_a(x) - ans)\n",
    "        # print(f'f({x}) = {y_function_a(x)}   p({x}) = {ans}      error = {error}\\n')\n",
    "        list_err.append(error)\n",
    "        \n",
    "        if(error > max_err):\n",
    "            max_err = error\n",
    "    print(f'The max error for p{n[i]} is : {max_err}')"
   ]
  },
  {
   "cell_type": "code",
   "execution_count": 15,
   "metadata": {},
   "outputs": [
    {
     "name": "stdout",
     "output_type": "stream",
     "text": [
      "calculating p2...\n",
      "The max error for p2 is : 1.319060369756925\n",
      "calculating p4...\n",
      "The max error for p4 is : 0.8178128793358417\n",
      "calculating p6...\n",
      "The max error for p6 is : 0.2858396841222408\n",
      "calculating p8...\n",
      "The max error for p8 is : 0.0533274391094779\n",
      "calculating p10...\n",
      "The max error for p10 is : 0.006297736824975919\n",
      "calculating p12...\n",
      "The max error for p12 is : 0.0005133836047842566\n",
      "calculating p14...\n",
      "The max error for p14 is : 3.162542727797035e-05\n",
      "calculating p16...\n",
      "The max error for p16 is : 1.448721169916567e-06\n"
     ]
    }
   ],
   "source": [
    "''' Using function (b) '''\n",
    "for i in range(len(n)):\n",
    "    max_err = 0\n",
    "    print(f'calculating p{n[i]}...')\n",
    "\n",
    "    for j in range(101):\n",
    "        # print(f'this is for i = {j}')\n",
    "        x = y_value(j)\n",
    "        ans = lagrange(n[i],x,y_function_b)\n",
    "        error = abs(y_function_b(x) - ans)\n",
    "        # print(f'f({x}) = {y_function_b(x)}   p({x}) = {ans}      error = {error}\\n')\n",
    "        list_err.append(error)\n",
    "        # print(f'Value for p{n[7]} with value x of {x} is = {ans} and the error with f({x}) is : {y_function_a(x)} - {ans} = {error}')\n",
    "        if(error > max_err):\n",
    "            max_err = error\n",
    "    print(f'The max error for p{n[i]} is : {max_err}')"
   ]
  },
  {
   "cell_type": "code",
   "execution_count": 16,
   "metadata": {},
   "outputs": [
    {
     "name": "stdout",
     "output_type": "stream",
     "text": [
      "calculating p2...\n",
      "The max error for p2 is : 44.157935232342076\n",
      "calculating p4...\n",
      "The max error for p4 is : 44.00446012537959\n",
      "calculating p6...\n",
      "The max error for p6 is : 41.91590625372425\n",
      "calculating p8...\n",
      "The max error for p8 is : 42.49820536262063\n",
      "calculating p10...\n",
      "The max error for p10 is : 52.819899827601375\n",
      "calculating p12...\n",
      "The max error for p12 is : 47.42039121979248\n",
      "calculating p14...\n",
      "The max error for p14 is : 104.15188257947943\n",
      "calculating p16...\n",
      "The max error for p16 is : 170.19260540868544\n"
     ]
    }
   ],
   "source": [
    "''' Using function (c) '''\n",
    "for i in range(len(n)):\n",
    "    max_err = 0\n",
    "    print(f'calculating p{n[i]}...')\n",
    "\n",
    "    for j in range(101):\n",
    "        # print(f'this is for i = {j}')\n",
    "        x = y_value(j)\n",
    "        ans = lagrange(n[i],x,y_function_c)\n",
    "        error = abs(y_function_c(x) - ans)\n",
    "        # print(f'f({x}) = {y_function_c(x)}   p({x}) = {ans}      error = {error}\\n')\n",
    "        list_err.append(error)\n",
    "        # print(f'Value for p{n[7]} with value x of {x} is = {ans} and the error with f({x}) is : {y_function_a(x)} - {ans} = {error}')\n",
    "        if(error > max_err):\n",
    "            max_err = error\n",
    "    print(f'The max error for p{n[i]} is : {max_err}')"
   ]
  },
  {
   "cell_type": "markdown",
   "metadata": {},
   "source": [
    "# Jacobi method\n",
    "question 7"
   ]
  },
  {
   "cell_type": "code",
   "execution_count": 17,
   "metadata": {},
   "outputs": [],
   "source": [
    "def make_diagonal_dominant(matrix, b):\n",
    "    max_col_index = np.argmax(np.abs(matrix), axis=0)\n",
    "    matrix = matrix[max_col_index]\n",
    "    b = b[max_col_index]\n",
    "\n",
    "    return matrix, b\n",
    "\n",
    "def jacobi(matrix,iteration,b, x=None):\n",
    "    \n",
    "    if x is None:\n",
    "        x = np.zeros(len(matrix[0]))\n",
    "    \n",
    "    D = np.diag(matrix)\n",
    "    R = matrix - np.diagflat(D)\n",
    "\n",
    "    for i in range(iteration):\n",
    "        x = (b - np.dot(R,x)) / D\n",
    "        print(f'Iteration {i+1}:\\n x = {x}')\n",
    "    return x"
   ]
  },
  {
   "cell_type": "code",
   "execution_count": 18,
   "metadata": {},
   "outputs": [
    {
     "name": "stdout",
     "output_type": "stream",
     "text": [
      "[[27  2  0  0  0  1]\n",
      " [ 3 12  0 -1  0  0]\n",
      " [ 4  0 31  1  0  0]\n",
      " [ 0  0  0 24 -1  0]\n",
      " [ 2  1  0  0 17 -3]\n",
      " [ 0  0  0 -1  1 11]]\n",
      "[ 98  39 117  55  12  14]\n",
      "Iteration 1:\n",
      " x = [3.62962963 3.25       3.77419355 2.29166667 0.70588235 1.27272727]\n",
      "Iteration 2:\n",
      " x = [3.34175084 2.53356481 3.23192951 2.32107843 0.31228956 1.41688948]\n",
      "Iteration 3:\n",
      " x = [3.38948077 2.60798549 3.26812639 2.30467873 0.41374129 1.45534444]\n",
      "Iteration 4:\n",
      " x = [3.38254387 2.59468637 3.26249672 2.30890589 0.41053449 1.44463068]\n",
      "Iteration 5:\n",
      " x = [3.3839258  2.59677286 3.26325544 2.30877227 0.41024223 1.44530649]\n",
      "Iteration 6:\n",
      " x = [3.38374621 2.59641624 3.26308144 2.30876009 0.41007618 1.44532091]\n",
      "Iteration 7:\n",
      " x = [3.3837721  2.59646012 3.263105   2.30875317 0.41012083 1.4453349 ]\n",
      "Iteration 8:\n",
      " x = [3.38376833 2.59645307 3.26310189 2.30875503 0.41011767 1.44533021]\n",
      "Iteration 9:\n",
      " x = [3.38376902 2.59645417 3.26310231 2.3087549  0.4101177  1.44533067]\n",
      "Iteration 10:\n",
      " x = [3.38376893 2.59645399 3.26310223 2.3087549  0.41011763 1.44533065]\n"
     ]
    },
    {
     "data": {
      "text/plain": [
       "array([3.38376893, 2.59645399, 3.26310223, 2.3087549 , 0.41011763,\n",
       "       1.44533065])"
      ]
     },
     "execution_count": 18,
     "metadata": {},
     "output_type": "execute_result"
    }
   ],
   "source": [
    "A = np.array([ [3,12,0,-1,0,0], [4,0,31,1,0,0] , [2,1,0,0,17,-3], [27,2,0,0,0,1], [0,0,0,-1,1,11], [0,0,0,24,-1,0] ])\n",
    "b = np.array([39,117,12,98,14,55])\n",
    "\n",
    "\n",
    "A, b = make_diagonal_dominant(A,b)\n",
    "print(A)\n",
    "print(b)\n",
    "\n",
    "jacobi(A,10,b)"
   ]
  },
  {
   "cell_type": "markdown",
   "metadata": {},
   "source": [
    "# Gauss-Seidel method\n",
    "question 8"
   ]
  },
  {
   "cell_type": "code",
   "execution_count": 19,
   "metadata": {},
   "outputs": [],
   "source": [
    "def GaussSeidel(matrix,b,iteration,x=None):\n",
    "\n",
    "    if x is None:\n",
    "        x = np.zeros(len(matrix[0]))\n",
    "\n",
    "    for iterations in range(iteration):\n",
    "        for i in range(len(matrix[0])):\n",
    "            d = b[i]\n",
    "\n",
    "            for j in range(len(matrix[0])):\n",
    "                if( i != j ):\n",
    "                    d = d - (matrix[i][j]*x[j])\n",
    "            x[i] = d/matrix[i][i]\n",
    "        print(f'Iteration {iterations+1}:\\n x = {x}')\n",
    "    return x"
   ]
  },
  {
   "cell_type": "code",
   "execution_count": 20,
   "metadata": {},
   "outputs": [
    {
     "name": "stdout",
     "output_type": "stream",
     "text": [
      "[[ 5 -2 -1  1]\n",
      " [-2  4  1  0]\n",
      " [ 1  2  6 -1]\n",
      " [-1  0  1  6]]\n",
      "[  6   0   6 -14]\n",
      "Iteration 1:\n",
      " x = [ 1.2         0.6         0.6        -2.23333333]\n",
      "Iteration 2:\n",
      " x = [ 2.00666667  0.85333333  0.00888889 -2.00037037]\n",
      "Iteration 3:\n",
      " x = [ 1.94318519  0.96937037  0.01961728 -2.01273868]\n",
      "Iteration 4:\n",
      " x = [ 1.99421934e+00  9.92205350e-01  1.43854595e-03 -2.00120320e+00]\n",
      "Iteration 5:\n",
      " x = [ 1.99741049e+00  9.98345608e-01  7.82515623e-04 -2.00056200e+00]\n",
      "Iteration 6:\n",
      " x = [ 1.99960715e+00  9.99607945e-01  1.02493150e-04 -2.00008256e+00]\n",
      "Iteration 7:\n",
      " x = [ 1.99988019e+00  9.99914471e-01  3.47188047e-05 -2.00002576e+00]\n",
      "Iteration 8:\n",
      " x = [ 1.99997788e+00  9.99980262e-01  5.97301908e-06 -2.00000468e+00]\n",
      "Iteration 9:\n",
      " x = [ 1.99999424e+00  9.99995625e-01  1.63891859e-06 -2.00000123e+00]\n",
      "Iteration 10:\n",
      " x = [ 1.99999882e+00  9.99999002e-01  3.22800478e-07 -2.00000025e+00]\n"
     ]
    },
    {
     "data": {
      "text/plain": [
       "array([ 1.99999882e+00,  9.99999002e-01,  3.22800478e-07, -2.00000025e+00])"
      ]
     },
     "execution_count": 20,
     "metadata": {},
     "output_type": "execute_result"
    }
   ],
   "source": [
    "A = np.array([[5,-2,-1,1],[-2,4,1,0],[1,2,6,-1],[-1,0,1,6]])\n",
    "b = np.array([6,0,6,-14])\n",
    "\n",
    "A,b = make_diagonal_dominant(A,b)\n",
    "print(A)\n",
    "print(b)\n",
    "\n",
    "GaussSeidel(A,b,10)"
   ]
  }
 ],
 "metadata": {
  "interpreter": {
   "hash": "3ced2f4eaaec4a5ad21e54a5682a43cb37ebcff431dffc69052d7e4efcca1b3f"
  },
  "kernelspec": {
   "display_name": "Python 3.9.6 64-bit",
   "language": "python",
   "name": "python3"
  },
  "language_info": {
   "codemirror_mode": {
    "name": "ipython",
    "version": 3
   },
   "file_extension": ".py",
   "mimetype": "text/x-python",
   "name": "python",
   "nbconvert_exporter": "python",
   "pygments_lexer": "ipython3",
   "version": "3.9.6"
  },
  "orig_nbformat": 4
 },
 "nbformat": 4,
 "nbformat_minor": 2
}
